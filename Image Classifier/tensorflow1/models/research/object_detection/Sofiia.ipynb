{
 "cells": [
  {
   "cell_type": "code",
   "execution_count": 4,
   "metadata": {},
   "outputs": [],
   "source": [
    "from keras.datasets import mnist\n",
    "import matplotlib.pyplot as plt\n",
    "from collections import Counter\n",
    "\n",
    "(x_train, y_train), (x_test, y_test) = mnist.load_data()"
   ]
  },
  {
   "cell_type": "markdown",
   "metadata": {},
   "source": [
    "# Introduction\n",
    "\n",
    "The goal of this sprint is to perform simple exploratory data analysis of the MNIST dataset,\n",
    "which is a set of matricies that are the the grayscale pixel values of handwritten digits and then\n",
    "the label which is the number the digit actually is.\n",
    "\n",
    "You are going to implement various functions responsible for returning information about the dataset.\n",
    "Each function will have the inputs specified and what each input is supposed to be as well as the specificed \n",
    "intended output.\n",
    "You will then have to plot results from the function in various ways to visualize your findings.\n",
    "\n",
    "\n",
    "### Each function you have to implement is worth 20 points.\n",
    "### There will be a total of 100 points.\n",
    "### The 6th function to implement is extra credit worth 20 points"
   ]
  },
  {
   "cell_type": "code",
   "execution_count": 6,
   "metadata": {
    "scrolled": true
   },
   "outputs": [],
   "source": [
    "def least_common_digit(x_set, y_set):\n",
    "    '''\n",
    "       Input: x_set, the x values of the dataset and y_set, the y values of the  dataset\n",
    "       Expected Output: The image from the x set of the least common digit.\n",
    "    '''\n",
    "    d = {}\n",
    "    instances = -57 #Number of instances the image appeared in the set\n",
    "    least_common_v = 0 #Value of the image\n",
    "    \n",
    "    for i,num in enumerate(y_set): \n",
    "        if num not in d: \n",
    "            d[num] = 1 #first time seeing the value\n",
    "        else:\n",
    "            d[num] += 1 #if it already exists, incrementing the number of instances\n",
    "        \n",
    "    for i in range(len(d)):\n",
    "        if instances == -57:#if it is the first time\n",
    "            instances = d[i] #store the number of times this value appeared in the set\n",
    "            least_common_v = i #store the value\n",
    "        if d[i] < instances: \n",
    "            instances = d[i]\n",
    "            least_common_v = i \n",
    "            \n",
    "    for i,num in enumerate(y_set):\n",
    "        if num == least_common_v:\n",
    "            return x_set[i]\n",
    "\n",
    "lc_train = least_common_digit(x_train, y_train)\n",
    "lc_test = least_common_digit(x_test, y_test)"
   ]
  },
  {
   "cell_type": "code",
   "execution_count": 9,
   "metadata": {},
   "outputs": [],
   "source": [
    "def most_common_digit(x_set, y_set):\n",
    "    '''\n",
    "       Input: x_set, the x values of the dataset and y_set, the y values of the  dataset\n",
    "       Expected Output: The image from the x set of the most common digit.\n",
    "    '''\n",
    "    d = {}\n",
    "    most = -1 #number of times the value appeared in the set\n",
    "    most_v = 0 #value\n",
    "    \n",
    "    for i,num in enumerate(y_set):\n",
    "        if num not in d:\n",
    "            d[num] = 1#first appearance -> adding to the dictionary\n",
    "        else:\n",
    "            d[num] += 1#been there, done that -> adding another instance\n",
    "        \n",
    "    for i in range(len(d)): #going through the dictionary to determine the value with most instances\n",
    "        if d[i] > most:\n",
    "            most = d[i]\n",
    "            most_v = i\n",
    "            \n",
    "    for i,num in enumerate(y_set): \n",
    "        if num == most_v:\n",
    "            return x_set[i]\n",
    "\n",
    "    \n",
    "mc_train = most_common_digit(x_train, y_train)\n",
    "mc_test = most_common_digit(x_test, y_test)"
   ]
  },
  {
   "cell_type": "code",
   "execution_count": 8,
   "metadata": {},
   "outputs": [
    {
     "data": {
      "image/png": "[encoded data removed]",
      "text/plain": [
       "<matplotlib.figure.Figure at 0x24d1523b550>"
      ]
     },
     "metadata": {},
     "output_type": "display_data"
    },
    {
     "data": {
      "image/png": "[encoded data removed]",
      "text/plain": [
       "<matplotlib.figure.Figure at 0x24d1523b470>"
      ]
     },
     "metadata": {},
     "output_type": "display_data"
    }
   ],
   "source": [
    "def plot_two(im1, title1, im2, title2):\n",
    "    '''\n",
    "        Input: im1, a matrix representing a grayscale image and title1 a string,im2 a matrix representing \n",
    "        a grayscale image and title2 a string\n",
    "        Expected Output: A tuple (fig, ax) representing a generated figure from matplotlib and two subplots \n",
    "        ready to display the inputed images with the given titles\n",
    "    '''\n",
    "    fig, ax = plt.subplots(1, 2)\n",
    "    ax[0].imshow(im1, cmap = 'gray')\n",
    "    ax[0].set_title(title1)\n",
    "    ax[1].imshow(im2, cmap = 'gray')\n",
    "    ax[1].set_title(title2)\n",
    "    fig.tight_layout()\n",
    "    return (fig, ax)\n",
    "\n",
    "plot_two(lc_train, 'Least Common Train', lc_test, 'Least Common Test')\n",
    "plot_two(mc_train, 'Most Common Train', mc_test, 'Most Common Test')\n",
    "plt.show()"
   ]
  },
  {
   "cell_type": "code",
   "execution_count": 10,
   "metadata": {},
   "outputs": [],
   "source": [
    "def how_many_of_each_digit(y_set):\n",
    "    '''\n",
    "       Input: y_set, the y values of the training set\n",
    "       Expected Output: A dict of the count of each digit in the set\n",
    "    '''\n",
    "    d = {}\n",
    "    \n",
    "    for i, num in enumerate(y_set):\n",
    "        if num not in d:\n",
    "            d[num] = 1\n",
    "        else:\n",
    "            d[num] += 1\n",
    "    return d\n",
    "\n",
    "count_train = how_many_of_each_digit(y_train)\n",
    "count_test = how_many_of_each_digit(y_test)"
   ]
  },
  {
   "cell_type": "code",
   "execution_count": 14,
   "metadata": {},
   "outputs": [],
   "source": [
    "def bar_chart(train, test):\n",
    "    '''\n",
    "    Inputs: train, a dictionary of count of each digit of the training set and test, a dictionary of the count\n",
    "    of each digit for the test set\n",
    "    Expected Output: A tuple (fig, ax) ready to show using matplotlib\n",
    "    '''\n",
    "    fig, ax = plt.subplots(1,1)\n",
    "    ax.bar(range(len(train)), train.values(), color = 'blue')\n",
    "    ax.bar(range(len(test)), test.values(), color = 'red')\n",
    "    return (fig, ax)"
   ]
  },
  {
   "cell_type": "code",
   "execution_count": 15,
   "metadata": {},
   "outputs": [
    {
     "data": {
      "image/png": "[encoded data removed]",
      "text/plain": [
       "<matplotlib.figure.Figure at 0x24d14c36b00>"
      ]
     },
     "metadata": {},
     "output_type": "display_data"
    }
   ],
   "source": [
    "fig, chart = bar_chart(count_train, count_test)\n",
    "plt.show()"
   ]
  },
  {
   "cell_type": "markdown",
   "metadata": {},
   "source": [
    "## Finally for extra credit after doing the small data explorations above, using the data provided here or if you are feeling particularly fancy download a dataset from somewhere and make an interesting visualization of something you think would be important to know if you were exploring this dataset in a real world setting.\n",
    "\n",
    "### This is extra credit and worth 20points."
   ]
  },
  {
   "cell_type": "code",
   "execution_count": 66,
   "metadata": {},
   "outputs": [],
   "source": [
    "import matplotlib.pyplot as plt\n",
    "\n",
    "def interesting_visualization():\n",
    "    cnt = how_many_of_each_digit(y_test) #Dictionary with data for each number   \n",
    "    labels = '0','1', '2', '3', '4', '5', '6', '7', '8', '9' #labels for every number\n",
    "    amount = [] #instances for each label\n",
    "    for i in range(10):\n",
    "        amount.append(count_train[i])\n",
    "    #to make this visualization pretty assigned a colour to each value/instance/label\n",
    "    colors = ['mediumturquoise','mediumseagreen', 'c', 'aqua', 'lightskyblue', 'lavender', 'thistle', 'plum', 'mediumslateblue',  'lightslategrey']\n",
    "\n",
    "    #plotting the visualization\n",
    "    plt.pie(amount, labels=labels, colors=colors,\n",
    "            autopct='%1.1f%%')\n",
    "    plt.title(\"Training Data\")\n",
    "    plt.axis('equal')#to make it into a circle\n",
    "    plt.show()"
   ]
  },
  {
   "cell_type": "code",
   "execution_count": 67,
   "metadata": {
    "scrolled": true
   },
   "outputs": [
    {
     "data": {
      "image/png": "[encoded data removed]",
      "text/plain": [
       "<matplotlib.figure.Figure at 0x24d151af588>"
      ]
     },
     "metadata": {},
     "output_type": "display_data"
    }
   ],
   "source": [
    "interesting_visualization()"
   ]
  },
  {
   "cell_type": "code",
   "execution_count": null,
   "metadata": {},
   "outputs": [],
   "source": []
  }
 ],
 "metadata": {
  "kernelspec": {
   "display_name": "Python 3",
   "language": "python",
   "name": "python3"
  },
  "language_info": {
   "codemirror_mode": {
    "name": "ipython",
    "version": 3
   },
   "file_extension": ".py",
   "mimetype": "text/x-python",
   "name": "python",
   "nbconvert_exporter": "python",
   "pygments_lexer": "ipython3",
   "version": "3.6.4"
  }
 },
 "nbformat": 4,
 "nbformat_minor": 2
}
