{
 "cells": [
  {
   "cell_type": "code",
   "execution_count": 1,
   "metadata": {},
   "outputs": [
    {
     "name": "stderr",
     "output_type": "stream",
     "text": [
      "Using TensorFlow backend.\n"
     ]
    }
   ],
   "source": [
    "from keras.datasets import mnist\n",
    "import matplotlib.pyplot as plt\n",
    "from collections import Counter\n",
    "\n",
    "(x_train, y_train), (x_test, y_test) = mnist.load_data()"
   ]
  },
  {
   "cell_type": "markdown",
   "metadata": {},
   "source": [
    "# Introduction\n",
    "\n",
    "The goal of this sprint is to perform simple exploratory data analysis of the MNIST dataset,\n",
    "which is a set of matricies that are the the grayscale pixel values of handwritten digits and then\n",
    "the label which is the number the digit actually is.\n",
    "\n",
    "You are going to implement various functions responsible for returning information about the dataset.\n",
    "Each function will have the inputs specified and what each input is supposed to be as well as the specificed \n",
    "intended output.\n",
    "You will then have to plot results from the function in various ways to visualize your findings.\n",
    "\n",
    "\n",
    "### Each function you have to implement is worth 20 points.\n",
    "### There will be a total of 100 points.\n",
    "### The 6th function to implement is extra credit worth 20 points"
   ]
  },
  {
   "cell_type": "code",
   "execution_count": 9,
   "metadata": {
    "scrolled": true
   },
   "outputs": [],
   "source": [
    "def least_common_digit(x_set, y_set):\n",
    "    '''\n",
    "       Input: x_set, the x values of the dataset and y_set, the y values of the  dataset\n",
    "       Expected Output: The image from the x set of the least common digit.\n",
    "    '''\n",
    "    dic = {}\n",
    "    leastIns = -1 #Number of instances\n",
    "    value = 0 #Value\n",
    "    \n",
    "    for i,num in enumerate(y_set): #For loop through the label, or y-set\n",
    "        if num not in dic: \n",
    "            dic[num] = 1 #initialize the number\n",
    "        else:\n",
    "            dic[num] += 1 #if in the dictionary ++1\n",
    "        \n",
    "    for i in range(len(dic)): #We go through the dictionary....\n",
    "        if dic[i] < leastIns or leastIns == -1: #-1 tells if it is the first time or not\n",
    "            leastIns = dic[i] #set the number of instances to the dic[i] value\n",
    "            value = i #Set the value\n",
    "            \n",
    "    for i,num in enumerate(y_set):\n",
    "        if num == value:\n",
    "            return x_set[i]\n",
    "\n",
    "lc_train = least_common_digit(x_train, y_train)\n",
    "lc_test = least_common_digit(x_test, y_test)"
   ]
  },
  {
   "cell_type": "code",
   "execution_count": 10,
   "metadata": {},
   "outputs": [],
   "source": [
    "def most_common_digit(x_set, y_set):\n",
    "    '''\n",
    "       Input: x_set, the x values of the dataset and y_set, the y values of the  dataset\n",
    "       Expected Output: The image from the x set of the most common digit.\n",
    "    '''\n",
    "    dic = {}\n",
    "    least = -1\n",
    "    value = 0\n",
    "    \n",
    "    for i,num in enumerate(y_set):\n",
    "        if num not in dic:\n",
    "            dic[num] = 1\n",
    "        else:\n",
    "            dic[num] += 1\n",
    "        \n",
    "    for i in range(len(dic)):\n",
    "        if dic[i] > least:\n",
    "            least = dic[i]\n",
    "            value = i\n",
    "            \n",
    "    for i,num in enumerate(y_set):\n",
    "        if num == value:\n",
    "            return x_set[i]\n",
    "\n",
    "    \n",
    "mc_train = most_common_digit(x_train, y_train)\n",
    "mc_test = most_common_digit(x_test, y_test)"
   ]
  },
  {
   "cell_type": "code",
   "execution_count": 14,
   "metadata": {},
   "outputs": [
    {
     "data": {
      "image/png": "[encoded data removed]",
      "text/plain": [
       "<matplotlib.figure.Figure at 0x25bdde63320>"
      ]
     },
     "metadata": {},
     "output_type": "display_data"
    },
    {
     "data": {
      "image/png": "[encoded data removed]",
      "text/plain": [
       "<matplotlib.figure.Figure at 0x25bddef1908>"
      ]
     },
     "metadata": {},
     "output_type": "display_data"
    }
   ],
   "source": [
    "def plot_two(im1, title1, im2, title2):\n",
    "    '''\n",
    "        Input: im1, a matrix representing a grayscale image and title1 a string,im2 a matrix representing \n",
    "        a grayscale image and title2 a string\n",
    "        Expected Output: A tuple (fig, ax) representing a generated figure from matplotlib and two subplots \n",
    "        ready to display the inputed images with the given titles\n",
    "    '''\n",
    "    fig, ax = plt.subplots(1, 2)\n",
    "    ax[0].imshow(im1, cmap = 'gray')\n",
    "    ax[0].set_title(title1)\n",
    "    ax[1].imshow(im2, cmap = 'gray')\n",
    "    ax[1].set_title(title2)\n",
    "    fig.tight_layout()\n",
    "    return (fig, ax)\n",
    "\n",
    "plot_two(lc_train, 'Least Common Train', lc_test, 'Least Common Test')\n",
    "plot_two(mc_train, 'Most Common Train', mc_test, 'Most Common Test')\n",
    "plt.show()"
   ]
  },
  {
   "cell_type": "code",
   "execution_count": 26,
   "metadata": {},
   "outputs": [],
   "source": [
    "def how_many_of_each_digit(y_set):\n",
    "    '''\n",
    "       Input: y_set, the y values of the training set\n",
    "       Expected Output: A dict of the count of each digit in the set\n",
    "    '''\n",
    "    vals = {}\n",
    "    \n",
    "    for i, num in enumerate(y_set):\n",
    "        if num not in vals:\n",
    "            vals[num] = 1\n",
    "        else:\n",
    "            vals[num] += 1\n",
    "    return vals\n",
    "\n",
    "count_train = how_many_of_each_digit(y_train)\n",
    "count_test = how_many_of_each_digit(y_test)"
   ]
  },
  {
   "cell_type": "code",
   "execution_count": 27,
   "metadata": {},
   "outputs": [],
   "source": [
    "def bar_chart(train, test):\n",
    "    '''\n",
    "    Inputs: train, a dictionary of count of each digit of the training set and test, a dictionary of the count\n",
    "    of each digit for the test set\n",
    "    Expected Output: A tuple (fig, ax) ready to show using matplotlib\n",
    "    '''\n",
    "    fig, ax = plt.subplots(1,1)\n",
    "    ax.bar(range(len(train)), train.values(), color = 'blue')\n",
    "    ax.bar(range(len(test)), test.values(), color = 'red')\n",
    "    return (fig, ax)"
   ]
  },
  {
   "cell_type": "code",
   "execution_count": 28,
   "metadata": {},
   "outputs": [
    {
     "data": {
      "image/png": "[encoded data removed]",
      "text/plain": [
       "<matplotlib.figure.Figure at 0x25bdde1f550>"
      ]
     },
     "metadata": {},
     "output_type": "display_data"
    }
   ],
   "source": [
    "fig, chart = bar_chart(count_train, count_test)\n",
    "plt.show()"
   ]
  },
  {
   "cell_type": "markdown",
   "metadata": {},
   "source": [
    "## Finally for extra credit after doing the small data explorations above, using the data provided here or if you are feeling particularly fancy download a dataset from somewhere and make an interesting visualization of something you think would be important to know if you were exploring this dataset in a real world setting.\n",
    "\n",
    "### This is extra credit and worth 20points."
   ]
  },
  {
   "cell_type": "code",
   "execution_count": 67,
   "metadata": {},
   "outputs": [],
   "source": [
    "import matplotlib.pyplot as plt\n",
    "#A dictionary with all the numbers and instances of the numbers\n",
    "#Least common, most common number\n",
    "\n",
    "def interesting_visualization():\n",
    "    # Data to plot\n",
    "    count_train = how_many_of_each_digit(y_train) #Dictionary    \n",
    "    labels = 'Zero','One', 'Two', 'Three', 'Four', 'Five', 'Six', 'Seven', 'Eight', 'Nine'\n",
    "    sizes = []\n",
    "    for i in range(10):\n",
    "        sizes.append(count_train[i])\n",
    "    colors = ['gray','gold', 'yellowgreen', 'lightcoral', 'lightskyblue', 'blue', 'pink', 'orange', 'red', 'green']\n",
    "    #explode = (0.1, 0, 0, 0, 0,0,0,0,0)  # explode 1st slice\n",
    "\n",
    "    # Plot\n",
    "    plt.pie(sizes, labels=labels, colors=colors,\n",
    "            autopct='%1.1f%%', shadow=True, startangle=140)\n",
    "    plt.title(\"Training Data\")\n",
    "    plt.axis('equal')\n",
    "    plt.show()"
   ]
  },
  {
   "cell_type": "code",
   "execution_count": 68,
   "metadata": {
    "scrolled": true
   },
   "outputs": [
    {
     "data": {
      "image/png": "[encoded data removed]",
      "text/plain": [
       "<matplotlib.figure.Figure at 0x25bddd9dfd0>"
      ]
     },
     "metadata": {},
     "output_type": "display_data"
    }
   ],
   "source": [
    "interesting_visualization()"
   ]
  },
  {
   "cell_type": "code",
   "execution_count": null,
   "metadata": {},
   "outputs": [],
   "source": []
  }
 ],
 "metadata": {
  "kernelspec": {
   "display_name": "Python 3",
   "language": "python",
   "name": "python3"
  },
  "language_info": {
   "codemirror_mode": {
    "name": "ipython",
    "version": 3
   },
   "file_extension": ".py",
   "mimetype": "text/x-python",
   "name": "python",
   "nbconvert_exporter": "python",
   "pygments_lexer": "ipython3",
   "version": "3.6.4"
  }
 },
 "nbformat": 4,
 "nbformat_minor": 2
}
