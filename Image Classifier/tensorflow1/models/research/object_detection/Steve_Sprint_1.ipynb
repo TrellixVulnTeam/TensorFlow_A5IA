{
 "cells": [
  {
   "cell_type": "code",
   "execution_count": 1,
   "metadata": {
    "scrolled": true
   },
   "outputs": [
    {
     "name": "stderr",
     "output_type": "stream",
     "text": [
      "Using TensorFlow backend.\n"
     ]
    }
   ],
   "source": [
    "from keras.datasets import mnist\n",
    "import matplotlib.pyplot as plt\n",
    "from collections import Counter\n",
    "\n",
    "(x_train, y_train), (x_test, y_test) = mnist.load_data()"
   ]
  },
  {
   "cell_type": "markdown",
   "metadata": {},
   "source": [
    "# Introduction\n",
    "\n",
    "The goal of this sprint is to perform simple exploratory data analysis of the MNIST dataset,\n",
    "which is a set of matricies that are the the grayscale pixel values of handwritten digits and then\n",
    "the label which is the number the digit actually is.\n",
    "\n",
    "You are going to implement various functions responsible for returning information about the dataset.\n",
    "Each function will have the inputs specified and what each input is supposed to be as well as the specificed \n",
    "intended output.\n",
    "You will then have to plot results from the function in various ways to visualize your findings.\n",
    "\n",
    "\n",
    "### Each function you have to implement is worth 20 points.\n",
    "### There will be a total of 100 points.\n",
    "### The 6th function to implement is extra credit worth 20 points"
   ]
  },
  {
   "cell_type": "code",
   "execution_count": 2,
   "metadata": {
    "scrolled": true
   },
   "outputs": [
    {
     "data": {
      "image/png": "[encoded data removed]",
      "text/plain": [
       "<matplotlib.figure.Figure at 0x1e598e2e358>"
      ]
     },
     "metadata": {},
     "output_type": "display_data"
    },
    {
     "data": {
      "image/png": "[encoded data removed]",
      "text/plain": [
       "<matplotlib.figure.Figure at 0x1e59aecfdd8>"
      ]
     },
     "metadata": {},
     "output_type": "display_data"
    }
   ],
   "source": [
    "def least_common_digit(x_set, y_set):\n",
    "    '''\n",
    "       Input: x_set, the x values of the dataset and y_set, the y values of the  dataset\n",
    "       Expected Output: The image from the x set of the least common digit.\n",
    "    '''\n",
    "    \n",
    "    dic = {}\n",
    "    least = 999999999\n",
    "    lowest = 0\n",
    "    \n",
    "    for i,num in enumerate(y_set):\n",
    "        if num not in dic:\n",
    "            dic[num] = 1\n",
    "        else:\n",
    "            dic[num] += 1\n",
    "        \n",
    "    for i in range(len(dic)):\n",
    "        if dic[i] < least:\n",
    "            least = dic[i]\n",
    "            lowest = i\n",
    "            \n",
    "    for i,num in enumerate(y_set):\n",
    "        if num == lowest:\n",
    "            return x_set[i]\n",
    "\n",
    "lc_train = least_common_digit(x_train, y_train)\n",
    "lc_test = least_common_digit(x_test, y_test)\n",
    "\n",
    "plt.title('Plotting a picture.')\n",
    "plt.imshow(lc_train, cmap='gray')\n",
    "plt.show()\n",
    "\n",
    "plt.title('Plotting a picture.')\n",
    "plt.imshow(lc_train, cmap='gray')\n",
    "plt.show()"
   ]
  },
  {
   "cell_type": "code",
   "execution_count": 3,
   "metadata": {},
   "outputs": [
    {
     "data": {
      "image/png": "[encoded data removed]",
      "text/plain": [
       "<matplotlib.figure.Figure at 0x1e59bf08860>"
      ]
     },
     "metadata": {},
     "output_type": "display_data"
    },
    {
     "data": {
      "image/png": "[encoded data removed]",
      "text/plain": [
       "<matplotlib.figure.Figure at 0x1e59bf68198>"
      ]
     },
     "metadata": {},
     "output_type": "display_data"
    }
   ],
   "source": [
    "def most_common_digit(x_set, y_set):\n",
    "    '''\n",
    "       Input: x_set, the x values of the dataset and y_set, the y values of the  dataset\n",
    "       Expected Output: The image from the x set of the most common digit.\n",
    "    '''\n",
    "    dic = {}\n",
    "    least = 0\n",
    "    lowest = 0\n",
    "    \n",
    "    for i,num in enumerate(y_set):\n",
    "        if num not in dic:\n",
    "            dic[num] = 1\n",
    "        else:\n",
    "            dic[num] += 1\n",
    "        \n",
    "    for i in range(len(dic)):\n",
    "        if dic[i] > least:\n",
    "            least = dic[i]\n",
    "            lowest = i\n",
    "            \n",
    "    for i,num in enumerate(y_set):\n",
    "        if num == lowest:\n",
    "            return x_set[i]\n",
    "\n",
    "    \n",
    "mc_train = most_common_digit(x_train, y_train)\n",
    "mc_test = most_common_digit(x_test, y_test)\n",
    "\n",
    "plt.title('Plotting a picture.')\n",
    "plt.imshow(mc_train, cmap='gray')\n",
    "plt.show()\n",
    "\n",
    "plt.title('Plotting a picture.')\n",
    "plt.imshow(mc_train, cmap='gray')\n",
    "plt.show()"
   ]
  },
  {
   "cell_type": "code",
   "execution_count": 4,
   "metadata": {
    "scrolled": false
   },
   "outputs": [
    {
     "ename": "NameError",
     "evalue": "name 'fig' is not defined",
     "output_type": "error",
     "traceback": [
      "\u001b[1;31m---------------------------------------------------------------------------\u001b[0m",
      "\u001b[1;31mNameError\u001b[0m                                 Traceback (most recent call last)",
      "\u001b[1;32m<ipython-input-4-1c153caeef59>\u001b[0m in \u001b[0;36m<module>\u001b[1;34m()\u001b[0m\n\u001b[0;32m      8\u001b[0m     \u001b[1;32mreturn\u001b[0m \u001b[1;33m(\u001b[0m\u001b[0mfig\u001b[0m\u001b[1;33m,\u001b[0m \u001b[0max\u001b[0m\u001b[1;33m)\u001b[0m\u001b[1;33m\u001b[0m\u001b[0m\n\u001b[0;32m      9\u001b[0m \u001b[1;33m\u001b[0m\u001b[0m\n\u001b[1;32m---> 10\u001b[1;33m \u001b[0mplot_two\u001b[0m\u001b[1;33m(\u001b[0m\u001b[0mlc_train\u001b[0m\u001b[1;33m,\u001b[0m \u001b[1;34m'Least Common Train'\u001b[0m\u001b[1;33m,\u001b[0m \u001b[0mlc_test\u001b[0m\u001b[1;33m,\u001b[0m \u001b[1;34m'Least Common Test'\u001b[0m\u001b[1;33m)\u001b[0m\u001b[1;33m,\u001b[0m \u001b[0mplot_two\u001b[0m\u001b[1;33m(\u001b[0m\u001b[0mmc_train\u001b[0m\u001b[1;33m,\u001b[0m \u001b[1;34m'Most Common Train'\u001b[0m\u001b[1;33m,\u001b[0m \u001b[0mmc_test\u001b[0m\u001b[1;33m,\u001b[0m \u001b[1;34m'Most Common Test'\u001b[0m\u001b[1;33m)\u001b[0m\u001b[1;33m\u001b[0m\u001b[0m\n\u001b[0m\u001b[0;32m     11\u001b[0m \u001b[0mplt\u001b[0m\u001b[1;33m.\u001b[0m\u001b[0mshow\u001b[0m\u001b[1;33m(\u001b[0m\u001b[1;33m)\u001b[0m\u001b[1;33m\u001b[0m\u001b[0m\n",
      "\u001b[1;32m<ipython-input-4-1c153caeef59>\u001b[0m in \u001b[0;36mplot_two\u001b[1;34m(im1, title1, im2, title2)\u001b[0m\n\u001b[0;32m      6\u001b[0m         \u001b[0mready\u001b[0m \u001b[0mto\u001b[0m \u001b[0mdisplay\u001b[0m \u001b[0mthe\u001b[0m \u001b[0minputed\u001b[0m \u001b[0mimages\u001b[0m \u001b[1;32mwith\u001b[0m \u001b[0mthe\u001b[0m \u001b[0mgiven\u001b[0m \u001b[0mtitles\u001b[0m\u001b[1;33m\u001b[0m\u001b[0m\n\u001b[0;32m      7\u001b[0m     '''\n\u001b[1;32m----> 8\u001b[1;33m     \u001b[1;32mreturn\u001b[0m \u001b[1;33m(\u001b[0m\u001b[0mfig\u001b[0m\u001b[1;33m,\u001b[0m \u001b[0max\u001b[0m\u001b[1;33m)\u001b[0m\u001b[1;33m\u001b[0m\u001b[0m\n\u001b[0m\u001b[0;32m      9\u001b[0m \u001b[1;33m\u001b[0m\u001b[0m\n\u001b[0;32m     10\u001b[0m \u001b[0mplot_two\u001b[0m\u001b[1;33m(\u001b[0m\u001b[0mlc_train\u001b[0m\u001b[1;33m,\u001b[0m \u001b[1;34m'Least Common Train'\u001b[0m\u001b[1;33m,\u001b[0m \u001b[0mlc_test\u001b[0m\u001b[1;33m,\u001b[0m \u001b[1;34m'Least Common Test'\u001b[0m\u001b[1;33m)\u001b[0m\u001b[1;33m,\u001b[0m \u001b[0mplot_two\u001b[0m\u001b[1;33m(\u001b[0m\u001b[0mmc_train\u001b[0m\u001b[1;33m,\u001b[0m \u001b[1;34m'Most Common Train'\u001b[0m\u001b[1;33m,\u001b[0m \u001b[0mmc_test\u001b[0m\u001b[1;33m,\u001b[0m \u001b[1;34m'Most Common Test'\u001b[0m\u001b[1;33m)\u001b[0m\u001b[1;33m\u001b[0m\u001b[0m\n",
      "\u001b[1;31mNameError\u001b[0m: name 'fig' is not defined"
     ]
    }
   ],
   "source": [
    "def plot_two(im1, title1, im2, title2):\n",
    "    '''\n",
    "        Input: im1, a matrix representing a grayscale image and title1 a string,im2 a matrix representing \n",
    "        a grayscale image and title2 a string\n",
    "        Expected Output: A tuple (fig, ax) representing a generated figure from matplotlib and two subplots \n",
    "        ready to display the inputed images with the given titles\n",
    "    '''\n",
    "    return (fig, ax)\n",
    "\n",
    "plot_two(lc_train, 'Least Common Train', lc_test, 'Least Common Test'), plot_two(mc_train, 'Most Common Train', mc_test, 'Most Common Test')\n",
    "plt.show()"
   ]
  },
  {
   "cell_type": "code",
   "execution_count": 47,
   "metadata": {},
   "outputs": [],
   "source": [
    "def how_many_of_each_digit(y_set):\n",
    "    '''\n",
    "       Input: y_set, the y values of the training set\n",
    "       Expected Output: A dict of the count of each digit in the set\n",
    "    '''\n",
    "    return vals_by_count\n",
    "\n",
    "count_train = how_many_of_each_digit(y_train)\n",
    "count_test = how_many_of_each_digit(y_test)"
   ]
  },
  {
   "cell_type": "code",
   "execution_count": 73,
   "metadata": {},
   "outputs": [],
   "source": [
    "def bar_chart(train, test):\n",
    "    '''\n",
    "    Inputs: train, a dictionary of count of each digit of the training set and test, a dictionary of the count\n",
    "    of each digit for the test set\n",
    "    Expected Output: A tuple (fig, ax) ready to show using matplotlib\n",
    "    '''\n",
    "    return (fig, ax)"
   ]
  },
  {
   "cell_type": "code",
   "execution_count": 74,
   "metadata": {
    "scrolled": true
   },
   "outputs": [
    {
     "data": {
      "image/png": "[encoded data removed]",
      "text/plain": [
       "<Figure size 432x288 with 1 Axes>"
      ]
     },
     "metadata": {},
     "output_type": "display_data"
    }
   ],
   "source": [
    "fig, chart = bar_chart(count_train, count_test)\n",
    "plt.show()"
   ]
  },
  {
   "cell_type": "markdown",
   "metadata": {},
   "source": [
    "## Finally for extra credit after doing the small data explorations above, using the data provided here or if you are feeling particularly fancy download a dataset from somewhere and make an interesting visualization of something you think would be important to know if you were exploring this dataset in a real world setting.\n",
    "\n",
    "### This is extra credit and worth 20points."
   ]
  },
  {
   "cell_type": "code",
   "execution_count": 9,
   "metadata": {},
   "outputs": [],
   "source": [
    "def interesting_visualization():\n",
    "    '''\n",
    "        Fill in this code block with your interesting visualization if you want the extra credit\n",
    "    '''\n",
    "    pass"
   ]
  },
  {
   "cell_type": "code",
   "execution_count": null,
   "metadata": {},
   "outputs": [],
   "source": [
    "#remember to set the arguments for your visualization if you need to\n",
    "interesting_visualization()"
   ]
  }
 ],
 "metadata": {
  "kernelspec": {
   "display_name": "Python 3",
   "language": "python",
   "name": "python3"
  },
  "language_info": {
   "codemirror_mode": {
    "name": "ipython",
    "version": 3
   },
   "file_extension": ".py",
   "mimetype": "text/x-python",
   "name": "python",
   "nbconvert_exporter": "python",
   "pygments_lexer": "ipython3",
   "version": "3.6.4"
  }
 },
 "nbformat": 4,
 "nbformat_minor": 2
}
